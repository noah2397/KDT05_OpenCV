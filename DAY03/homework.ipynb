{
 "cells": [
  {
   "cell_type": "code",
   "execution_count": 13,
   "metadata": {},
   "outputs": [],
   "source": [
    "from torchvision.datasets import ImageFolder\n",
    "import torchvision.transforms as transforms\n",
    "\n",
    "data = ImageFolder(root = \"./image\", transform=transforms.Compose(\n",
    "    [transforms.ToTensor(),\n",
    "     transforms.Resize((50,50))]))"
   ]
  },
  {
   "cell_type": "code",
   "execution_count": 14,
   "metadata": {},
   "outputs": [
    {
     "data": {
      "text/plain": [
       "(['anya', 'bekki'], {'anya': 0, 'bekki': 1}, 196)"
      ]
     },
     "execution_count": 14,
     "metadata": {},
     "output_type": "execute_result"
    }
   ],
   "source": [
    "data.classes, data.class_to_idx, len(data.imgs)"
   ]
  },
  {
   "cell_type": "code",
   "execution_count": 15,
   "metadata": {},
   "outputs": [],
   "source": [
    "from torch.utils.data import DataLoader\n",
    "\n",
    "data_loader = DataLoader(data, batch_size=8, shuffle=True)"
   ]
  },
  {
   "cell_type": "code",
   "execution_count": 16,
   "metadata": {},
   "outputs": [
    {
     "name": "stdout",
     "output_type": "stream",
     "text": [
      "torch.Size([8, 3, 50, 50]) tensor([0, 1, 0, 0, 0, 0, 0, 0])\n",
      "torch.Size([8, 3, 50, 50]) tensor([0, 1, 1, 0, 1, 1, 0, 0])\n",
      "torch.Size([8, 3, 50, 50]) tensor([0, 1, 0, 1, 0, 1, 1, 1])\n",
      "torch.Size([8, 3, 50, 50]) tensor([1, 0, 1, 1, 1, 0, 1, 1])\n",
      "torch.Size([8, 3, 50, 50]) tensor([0, 0, 1, 1, 0, 0, 1, 0])\n",
      "torch.Size([8, 3, 50, 50]) tensor([1, 0, 1, 1, 0, 0, 0, 0])\n",
      "torch.Size([8, 3, 50, 50]) tensor([0, 0, 1, 0, 0, 0, 0, 0])\n",
      "torch.Size([8, 3, 50, 50]) tensor([1, 1, 1, 0, 1, 0, 0, 1])\n",
      "torch.Size([8, 3, 50, 50]) tensor([1, 0, 1, 1, 0, 0, 1, 0])\n",
      "torch.Size([8, 3, 50, 50]) tensor([0, 0, 0, 0, 0, 0, 0, 0])\n",
      "torch.Size([8, 3, 50, 50]) tensor([0, 1, 1, 0, 0, 1, 0, 0])\n",
      "torch.Size([8, 3, 50, 50]) tensor([0, 1, 1, 1, 0, 0, 0, 0])\n",
      "torch.Size([8, 3, 50, 50]) tensor([1, 0, 0, 0, 0, 1, 0, 0])\n",
      "torch.Size([8, 3, 50, 50]) tensor([1, 1, 0, 0, 0, 1, 0, 0])\n",
      "torch.Size([8, 3, 50, 50]) tensor([1, 0, 0, 1, 0, 1, 0, 0])\n",
      "torch.Size([8, 3, 50, 50]) tensor([1, 1, 0, 1, 1, 1, 1, 0])\n",
      "torch.Size([8, 3, 50, 50]) tensor([0, 1, 0, 0, 0, 1, 1, 0])\n",
      "torch.Size([8, 3, 50, 50]) tensor([0, 0, 1, 0, 0, 0, 1, 0])\n",
      "torch.Size([8, 3, 50, 50]) tensor([1, 1, 1, 1, 1, 0, 0, 0])\n",
      "torch.Size([8, 3, 50, 50]) tensor([0, 0, 0, 0, 0, 0, 1, 0])\n",
      "torch.Size([8, 3, 50, 50]) tensor([0, 1, 0, 1, 1, 1, 0, 1])\n",
      "torch.Size([8, 3, 50, 50]) tensor([1, 0, 0, 1, 0, 1, 0, 0])\n",
      "torch.Size([8, 3, 50, 50]) tensor([1, 0, 0, 0, 1, 0, 0, 0])\n",
      "torch.Size([8, 3, 50, 50]) tensor([0, 1, 0, 1, 1, 1, 0, 0])\n",
      "torch.Size([4, 3, 50, 50]) tensor([0, 1, 0, 0])\n"
     ]
    }
   ],
   "source": [
    "for i,j in data_loader:\n",
    "    print(i.shape, j) "
   ]
  },
  {
   "cell_type": "code",
   "execution_count": 17,
   "metadata": {},
   "outputs": [],
   "source": [
    "# CNN 모델 클래스 생성\n",
    "import torch.nn as nn\n",
    "import torch.nn.functional as F\n",
    "\n",
    "class CNN(nn.Module):\n",
    "    def __init__(self):\n",
    "        super(CNN, self).__init__()\n",
    "        self.conv1 = nn.Conv2d(3, 6, 5)\n",
    "        self.pool = nn.MaxPool2d(2, 2)\n",
    "        self.conv2 = nn.Conv2d(6, 16, 5)\n",
    "        self.fc1 = nn.Linear(16 * 9 * 9, 120)\n",
    "        self.fc2 = nn.Linear(120, 84)\n",
    "        self.fc3 = nn.Linear(84, 2)\n",
    "\n",
    "    def forward(self, x):\n",
    "        x = self.pool(F.relu(self.conv1(x)))\n",
    "        x = self.pool(F.relu(self.conv2(x)))\n",
    "        x = x.view(-1, 16 * 9 * 9)\n",
    "        x = F.relu(self.fc1(x))\n",
    "        x = F.relu(self.fc2(x))\n",
    "        x = self.fc3(x)\n",
    "        return x"
   ]
  },
  {
   "cell_type": "code",
   "execution_count": 18,
   "metadata": {},
   "outputs": [],
   "source": [
    "# 모델 객체 생성, Adam 옵티마이저 생성\n",
    "import torch.optim as optim\n",
    "\n",
    "model = CNN()\n",
    "optimizer = optim.Adam(model.parameters(), lr=0.001)\n",
    "criterion = nn.CrossEntropyLoss()"
   ]
  },
  {
   "cell_type": "code",
   "execution_count": 21,
   "metadata": {},
   "outputs": [
    {
     "name": "stdout",
     "output_type": "stream",
     "text": [
      "0 0 0.24083487689495087\n",
      "0 10 0.10990116745233536\n",
      "0 20 0.45305803418159485\n"
     ]
    },
    {
     "ename": "TypeError",
     "evalue": "accuracy() missing 1 required positional argument: 'task'",
     "output_type": "error",
     "traceback": [
      "\u001b[1;31m---------------------------------------------------------------------------\u001b[0m",
      "\u001b[1;31mTypeError\u001b[0m                                 Traceback (most recent call last)",
      "Cell \u001b[1;32mIn[21], line 16\u001b[0m\n\u001b[0;32m     14\u001b[0m \u001b[38;5;66;03m# 트레인 정확도, f1 계산\u001b[39;00m\n\u001b[0;32m     15\u001b[0m y_pred \u001b[38;5;241m=\u001b[39m model(x)\n\u001b[1;32m---> 16\u001b[0m \u001b[38;5;28mprint\u001b[39m(\u001b[43mmetrics\u001b[49m\u001b[38;5;241;43m.\u001b[39;49m\u001b[43maccuracy\u001b[49m\u001b[43m(\u001b[49m\u001b[43my_pred\u001b[49m\u001b[43m,\u001b[49m\u001b[43m \u001b[49m\u001b[43my\u001b[49m\u001b[43m)\u001b[49m)\n\u001b[0;32m     17\u001b[0m \u001b[38;5;28mprint\u001b[39m(metrics\u001b[38;5;241m.\u001b[39mf1(y_pred, y))\n",
      "\u001b[1;31mTypeError\u001b[0m: accuracy() missing 1 required positional argument: 'task'"
     ]
    }
   ],
   "source": [
    "import torchmetrics.functional as metrics\n",
    "\n",
    "for epoch in range(10):\n",
    "    for i, data in enumerate(data_loader):\n",
    "        x, y = data\n",
    "        optimizer.zero_grad()\n",
    "        output = model(x)\n",
    "        loss = criterion(output, y)\n",
    "        loss.backward()\n",
    "        optimizer.step()\n",
    "        if i % 10 == 0:\n",
    "            print(epoch, i, loss.item())\n",
    "            \n",
    "    # 트레인 정확도, f1 계산\n",
    "    y_pred = model(x)\n",
    "    print(metrics.accuracy(y_pred, y))\n",
    "    print(metrics.f1(y_pred, y))"
   ]
  },
  {
   "cell_type": "code",
   "execution_count": null,
   "metadata": {},
   "outputs": [],
   "source": []
  }
 ],
 "metadata": {
  "kernelspec": {
   "display_name": "Torch_PY38",
   "language": "python",
   "name": "python3"
  },
  "language_info": {
   "codemirror_mode": {
    "name": "ipython",
    "version": 3
   },
   "file_extension": ".py",
   "mimetype": "text/x-python",
   "name": "python",
   "nbconvert_exporter": "python",
   "pygments_lexer": "ipython3",
   "version": "3.8.18"
  }
 },
 "nbformat": 4,
 "nbformat_minor": 2
}
