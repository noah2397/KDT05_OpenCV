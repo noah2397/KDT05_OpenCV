{
 "cells": [
  {
   "cell_type": "code",
   "execution_count": 1,
   "metadata": {},
   "outputs": [],
   "source": [
    "import os"
   ]
  },
  {
   "cell_type": "code",
   "execution_count": 6,
   "metadata": {},
   "outputs": [
    {
     "data": {
      "text/plain": [
       "True"
      ]
     },
     "execution_count": 6,
     "metadata": {},
     "output_type": "execute_result"
    }
   ],
   "source": [
    "my_folder=\"../data\"\n",
    "os.path.exists(my_folder)"
   ]
  },
  {
   "cell_type": "code",
   "execution_count": 7,
   "metadata": {},
   "outputs": [
    {
     "data": {
      "text/plain": [
       "['image', 'MNIST']"
      ]
     },
     "execution_count": 7,
     "metadata": {},
     "output_type": "execute_result"
    }
   ],
   "source": [
    "os.listdir(my_folder)"
   ]
  },
  {
   "cell_type": "code",
   "execution_count": null,
   "metadata": {},
   "outputs": [],
   "source": [
    "# os.listdir()\n",
    "# os.path.isdir()\n",
    "# os.path.isfile()"
   ]
  },
  {
   "cell_type": "code",
   "execution_count": 46,
   "metadata": {},
   "outputs": [
    {
     "name": "stdout",
     "output_type": "stream",
     "text": [
      "--- [MNIST] filelist : ../data/mnist/image/까꿍~ .jpg\n"
     ]
    }
   ],
   "source": [
    "data_path='../data/' \n",
    "extension='.jpg'\n",
    "def getFiles(dir, extension):\n",
    "    for dir_name in os.listdir(data_path):\n",
    "        sub_path=(data_path+dir_name).lower()\n",
    "        if os.path.isdir(sub_path):\n",
    "            filelist=os.listdir(sub_path) \n",
    "            \n",
    "            for i in filelist: # ======================================================================\n",
    "                if os.path.isdir(sub_path+\"/\"+i):                                             # 2단계\n",
    "                    sub2_path=sub_path+\"/\"+i\n",
    "                    filelist2=os.listdir(sub2_path)\n",
    "                    for j in filelist2:\n",
    "                        if j.endswith(extension):\n",
    "                            print(f'--- [{dir_name}] filelist : {sub2_path}/{j}') # ====================\n",
    "            \n",
    "            \n",
    "            if sub_path.endswith('png') : \n",
    "                print(f'--- [{dir_name}] filelist : {sub_path}')\n",
    "getFiles(data_path, extension)\n",
    "            "
   ]
  },
  {
   "cell_type": "code",
   "execution_count": 43,
   "metadata": {},
   "outputs": [],
   "source": [
    "def find_files(path, extension):\n",
    "    for file in os.listdir(path):\n",
    "        if os.path.isdir(path + file):\n",
    "            find_files(path + file + '/', extension)\n",
    "        else:\n",
    "            if os.path.splitext(file)[-1] == extension:\n",
    "                print(file)"
   ]
  },
  {
   "cell_type": "code",
   "execution_count": 50,
   "metadata": {},
   "outputs": [
    {
     "name": "stdout",
     "output_type": "stream",
     "text": [
      "4.9.0\n"
     ]
    }
   ],
   "source": [
    "import cv2\n",
    "print(cv2.__version__)"
   ]
  },
  {
   "cell_type": "code",
   "execution_count": null,
   "metadata": {},
   "outputs": [],
   "source": []
  }
 ],
 "metadata": {
  "kernelspec": {
   "display_name": "Torch_PY38",
   "language": "python",
   "name": "python3"
  },
  "language_info": {
   "codemirror_mode": {
    "name": "ipython",
    "version": 3
   },
   "file_extension": ".py",
   "mimetype": "text/x-python",
   "name": "python",
   "nbconvert_exporter": "python",
   "pygments_lexer": "ipython3",
   "version": "3.8.18"
  }
 },
 "nbformat": 4,
 "nbformat_minor": 2
}
