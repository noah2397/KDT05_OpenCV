{
 "cells": [
  {
   "cell_type": "code",
   "execution_count": 9,
   "metadata": {},
   "outputs": [
    {
     "name": "stdout",
     "output_type": "stream",
     "text": [
      "** face_detections RESULT\n",
      "[[822 336  33  33]\n",
      " [891 338  34  34]]\n"
     ]
    }
   ],
   "source": [
    "import cv2\n",
    "# 이미지 파일 및 정면얼굴 인식 모델 경로\n",
    "frontalface_model = '../data/haarcascades/haarcascade_eye_tree_eyeglasses.xml'\n",
    "img_file = '../kao.jpg'\n",
    "# 정면얼굴 인식 모델 로딩\n",
    "face_detector = cv2.CascadeClassifier(frontalface_model)\n",
    "# 이미지 데이터 로딩\n",
    "imgNP=cv2.imread(img_file)\n",
    "# 이미지에서 정면 얼굴 인식 ==> [결과] 인식된 얼굴 수 만큼 위치정보(x, y, w, h) 반환\n",
    "face_detections = face_detector.detectMultiScale(imgNP)\n",
    "print(f'** face_detections RESULT\\n{face_detections}')"
   ]
  },
  {
   "cell_type": "code",
   "execution_count": 10,
   "metadata": {},
   "outputs": [],
   "source": [
    "# 인식된 정면 얼굴 ROI 표시\n",
    "for (x, y, w, h) in face_detections:\n",
    "    cv2.rectangle(imgNP, (x, y), (x + w, y + h), (0, 255, 0), 2)\n",
    "\n",
    "# 화면 출력\n",
    "cv2.imshow('[M]', imgNP)\n",
    "\n",
    "# 키 입력 및 X버튼에 따른 창 닫기\n",
    "if cv2.waitKey() or cv2.getWindowProperty('image', cv2.WND_PROP_VISIBLE) <1:\n",
    "    cv2.destroyAllWindows()"
   ]
  },
  {
   "cell_type": "code",
   "execution_count": null,
   "metadata": {},
   "outputs": [],
   "source": []
  }
 ],
 "metadata": {
  "kernelspec": {
   "display_name": "Torch_PY38",
   "language": "python",
   "name": "python3"
  },
  "language_info": {
   "codemirror_mode": {
    "name": "ipython",
    "version": 3
   },
   "file_extension": ".py",
   "mimetype": "text/x-python",
   "name": "python",
   "nbconvert_exporter": "python",
   "pygments_lexer": "ipython3",
   "version": "3.8.18"
  }
 },
 "nbformat": 4,
 "nbformat_minor": 2
}
