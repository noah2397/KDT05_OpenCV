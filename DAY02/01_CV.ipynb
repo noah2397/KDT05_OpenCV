{
 "cells": [
  {
   "cell_type": "code",
   "execution_count": 2,
   "metadata": {},
   "outputs": [],
   "source": [
    "import cv2\n",
    "import numpy as np"
   ]
  },
  {
   "cell_type": "code",
   "execution_count": 3,
   "metadata": {},
   "outputs": [
    {
     "data": {
      "text/plain": [
       "'4.9.0'"
      ]
     },
     "execution_count": 3,
     "metadata": {},
     "output_type": "execute_result"
    }
   ],
   "source": [
    "cv2.__version__"
   ]
  },
  {
   "cell_type": "code",
   "execution_count": 2,
   "metadata": {},
   "outputs": [],
   "source": [
    "img_rgb=cv2.imread('../image.png')"
   ]
  },
  {
   "cell_type": "code",
   "execution_count": 3,
   "metadata": {},
   "outputs": [
    {
     "data": {
      "text/plain": [
       "((401, 321, 3), dtype('uint8'), 386163)"
      ]
     },
     "execution_count": 3,
     "metadata": {},
     "output_type": "execute_result"
    }
   ],
   "source": [
    "img_rgb.shape, img_rgb.dtype, img_rgb.size\n",
    "# 3차원          # 타입         # 바이트 크기"
   ]
  },
  {
   "cell_type": "code",
   "execution_count": 4,
   "metadata": {},
   "outputs": [],
   "source": [
    "img_rgb=cv2.imread('../image.png', cv2.IMREAD_GRAYSCALE)"
   ]
  },
  {
   "cell_type": "code",
   "execution_count": 5,
   "metadata": {},
   "outputs": [
    {
     "data": {
      "text/plain": [
       "((401, 321), dtype('uint8'), 128721)"
      ]
     },
     "execution_count": 5,
     "metadata": {},
     "output_type": "execute_result"
    }
   ],
   "source": [
    "img_rgb.shape, img_rgb.dtype, img_rgb.size\n",
    "# 3차원          # 타입         # 바이트 크기"
   ]
  },
  {
   "cell_type": "code",
   "execution_count": 6,
   "metadata": {},
   "outputs": [],
   "source": [
    "cv2.imshow('../image.png', img_rgb)\n",
    "while True:\n",
    "    key=cv2.waitKey(0)\n",
    "    if key==27:\n",
    "        cv2.destroyAllWindows()\n",
    "        break\n",
    "    "
   ]
  },
  {
   "cell_type": "code",
   "execution_count": 7,
   "metadata": {},
   "outputs": [
    {
     "name": "stdout",
     "output_type": "stream",
     "text": [
      "key =>> 27 - 0x1b\n"
     ]
    }
   ],
   "source": [
    "cv2.imshow('../image.png', img_rgb)\n",
    "while True:\n",
    "    key=cv2.waitKey() # 키 입력 대기\n",
    "    print(f'key =>> {key} - {hex(key)}') # 입력 키 출력\n",
    "    if key==27: # ESC키 일때 화면 종료\n",
    "        cv2.destroyAllWindows()\n",
    "        break\n",
    "\n",
    "    else:\n",
    "        print('No image file!!!')"
   ]
  },
  {
   "cell_type": "code",
   "execution_count": 8,
   "metadata": {},
   "outputs": [
    {
     "name": "stdout",
     "output_type": "stream",
     "text": [
      "key =>> 27 - 0x1b\n"
     ]
    }
   ],
   "source": [
    "cv2.imshow('../image.png', img_rgb)\n",
    "while True:\n",
    "    key=cv2.waitKey() # 키 입력 대기\n",
    "    print(f'key =>> {key} - {hex(key)}') # 입력 키 출력\n",
    "    if key==27: # ESC키 일때 화면 종료\n",
    "        cv2.imwrite(\"./save.png\", img_rgb)\n",
    "        cv2.destroyAllWindows()\n",
    "        break"
   ]
  },
  {
   "cell_type": "code",
   "execution_count": 9,
   "metadata": {},
   "outputs": [],
   "source": [
    "import cv2\n",
    "img_file = '../image.png' # 이미지 경로\n",
    "img = cv2.imread(img_file) # 이미지 로딩\n",
    "img_b, img_g, img_r = cv2.split(img) # 이미지 채널 분리 B G R\n",
    "cv2.imshow('[Blue Channel]', img_b)\n",
    "cv2.waitKey()\n",
    "cv2.imshow('[Green Channel]', img_g)\n",
    "cv2.waitKey()\n",
    "cv2.imshow('[Red Channel]', img_r)\n",
    "cv2.waitKey()\n",
    "cv2.destroyAllWindows()"
   ]
  },
  {
   "cell_type": "code",
   "execution_count": 10,
   "metadata": {},
   "outputs": [],
   "source": [
    "import cv2\n",
    "img_file = '../image.png' # 이미지 경로\n",
    "img = cv2.imread(img_file) # 이미지 로딩\n",
    "# ndarray 분리\n",
    "b, g, r = img[:,:,0], img[:, :, 1], img[:,:, 2]\n",
    "cv2.imshow('[IMG-R]', b)\n",
    "cv2.imshow('[IMG-G]', g)\n",
    "cv2.imshow('[IMG-B]', r)\n",
    "cv2.waitKey()\n",
    "cv2.destroyAllWindows()"
   ]
  },
  {
   "cell_type": "code",
   "execution_count": 11,
   "metadata": {},
   "outputs": [],
   "source": [
    "import cv2\n",
    "img_file = '../image.png' # 이미지 경로\n",
    "img = cv2.imread(img_file) # 이미지 로딩\n",
    "img_b, img_g, img_r = cv2.split(img) # 이미지 채널 분리 B G R\n",
    "img_rgb = cv2.merge((img_r, img_g, img_b)) # 채널 순서 변경\n",
    "cv2.imshow('[RGB IMAGE]', img_rgb)\n",
    "cv2.waitKey()\n",
    "cv2.destroyAllWindows()"
   ]
  },
  {
   "cell_type": "code",
   "execution_count": 12,
   "metadata": {},
   "outputs": [],
   "source": [
    "import cv2\n",
    "img_file = '../image.png' # 이미지 경로\n",
    "img = cv2.imread(img_file) # 이미지 로딩\n",
    "# BGR -> HSV\n",
    "src_hsv = cv2.cvtColor(img, cv2.COLOR_BGR2HSV)\n",
    "planes,_,_ = cv2.split(src_hsv)\n",
    "cv2.imshow('[HSV IMG]', src_hsv)\n",
    "cv2.waitKey()\n",
    "cv2.destroyAllWindows()"
   ]
  },
  {
   "cell_type": "code",
   "execution_count": 17,
   "metadata": {},
   "outputs": [],
   "source": [
    "cv2.imshow('[COLOR]', img_rgb)\n",
    "\n",
    "if cv2.waitKey() or cv2.getWindowProperty('[COLOR]', cv2.WND_PROP_VISIBLE) < 1:\n",
    "    cv2.destroyAllWindows()"
   ]
  },
  {
   "cell_type": "code",
   "execution_count": 18,
   "metadata": {},
   "outputs": [],
   "source": [
    "import cv2\n",
    "img_file = '../image.png' # 이미지 경로\n",
    "img = cv2.imread(img_file) # 이미지 로딩\n",
    "down_img = cv2.resize(img, dsize=(30, 30), interpolation=cv2.INTER_AREA)\n",
    "up_img = cv2.resize(img, dsize=(0, 0), fx=1.5, fy=1.5, interpolation=cv2.INTER_CUBIC)\n",
    "cv2.imshow( \"down_img\", down_img )\n",
    "cv2.imshow( \"up_img\", up_img )\n",
    "cv2.imshow('ORG', img)\n",
    "cv2.waitKey()\n",
    "cv2.destroyAllWindows()"
   ]
  },
  {
   "cell_type": "code",
   "execution_count": 27,
   "metadata": {},
   "outputs": [],
   "source": [
    "img=np.zeros((500,500,3), dtype=np.uint8)\n",
    "cv2.line(img, (10,10), (70,70), (255,0,0))\n",
    "cv2.imshow(\"BLACK\", img)\n",
    "\n",
    "cv2.waitKey()\n",
    "cv2.destroyAllWindows()"
   ]
  },
  {
   "cell_type": "code",
   "execution_count": 21,
   "metadata": {},
   "outputs": [
    {
     "data": {
      "text/plain": [
       "array([[255, 255, 255, ..., 255, 255, 255],\n",
       "       [255, 255, 255, ..., 255, 255, 255],\n",
       "       [255, 255, 255, ..., 255, 255, 255],\n",
       "       ...,\n",
       "       [255, 255, 255, ..., 255, 255, 255],\n",
       "       [255, 255, 255, ..., 255, 255, 255],\n",
       "       [255, 255, 255, ..., 255, 255, 255]], dtype=uint8)"
      ]
     },
     "execution_count": 21,
     "metadata": {},
     "output_type": "execute_result"
    }
   ],
   "source": []
  },
  {
   "cell_type": "code",
   "execution_count": null,
   "metadata": {},
   "outputs": [],
   "source": []
  }
 ],
 "metadata": {
  "kernelspec": {
   "display_name": "Torch_PY38",
   "language": "python",
   "name": "python3"
  },
  "language_info": {
   "codemirror_mode": {
    "name": "ipython",
    "version": 3
   },
   "file_extension": ".py",
   "mimetype": "text/x-python",
   "name": "python",
   "nbconvert_exporter": "python",
   "pygments_lexer": "ipython3",
   "version": "3.8.18"
  }
 },
 "nbformat": 4,
 "nbformat_minor": 2
}
